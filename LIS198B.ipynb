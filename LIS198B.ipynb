{
 "cells": [
  {
   "cell_type": "markdown",
   "id": "53450a2d-10ac-4630-b11a-cebfdeed108c",
   "metadata": {},
   "source": [
    "# Natural Language Processing (NLP) training to identify scam messages"
   ]
  },
  {
   "cell_type": "markdown",
   "id": "26432726-b474-44f4-8b47-7d70ecfe3188",
   "metadata": {},
   "source": [
    "## Initial setup of Python libraries + defining functions"
   ]
  },
  {
   "cell_type": "code",
   "execution_count": null,
   "id": "b10c400f-de09-466a-bdad-d5f0566730b4",
   "metadata": {},
   "outputs": [],
   "source": [
    "import pandas as pd\n",
    "import numpy as np\n",
    "import string\n",
    "import seaborn as sns\n",
    "import matplotlib.pyplot as plt\n",
    "import nltk\n",
    "from nltk.corpus import stopwords\n",
    "from sklearn.feature_extraction.text import CountVectorizer\n",
    "from sklearn.feature_extraction.text import TfidfTransformer\n",
    "from sklearn.model_selection import train_test_split\n",
    "from sklearn.svm import SVC\n",
    "from collections import Counter\n",
    "from sklearn.metrics import classification_report,confusion_matrix\n",
    "from sklearn.model_selection import GridSearchCV\n",
    "%matplotlib inline\n",
    "\n",
    "def transform_message(message):\n",
    "    # Remove punctuation\n",
    "    message_not_punc = ''.join([char for char in message if char not in string.punctuation])\n",
    "    \n",
    "    # Tokenize and remove stopwords\n",
    "    stop_words = set(stopwords.words('english'))  # Load stopwords only once\n",
    "    message_clean = [word.lower() for word in message_not_punc.split() if word.lower() not in stop_words]\n",
    "    \n",
    "    return message_clean"
   ]
  },
  {
   "cell_type": "markdown",
   "id": "e523e91f-d91c-422d-8c76-57c06398124c",
   "metadata": {},
   "source": [
    "## Analysis of the UCI Dataset of Spam Messages"
   ]
  },
  {
   "cell_type": "code",
   "execution_count": null,
   "id": "3301cb9e-5659-420f-8949-dc7355b28b9a",
   "metadata": {},
   "outputs": [],
   "source": [
    "# Read the file using tab as the delimiter\n",
    "data = pd.read_csv('Datasets/UCI_SPAM', sep='\\t', header=None, names=[\"label\", \"message\"])\n",
    "\n",
    "# Clean up whitespace in the message column\n",
    "data['message'] = data['message'].str.strip()\n",
    "\n",
    "# Display the first rows\n",
    "print(data.head())\n",
    "data.describe()"
   ]
  },
  {
   "cell_type": "code",
   "execution_count": null,
   "id": "6131ce82-4ca5-4f84-b57e-a0c71346a466",
   "metadata": {},
   "outputs": [],
   "source": [
    "data[\"length\"] = data[\"message\"].apply(len)\n",
    "data.sort_values(by='length', ascending=False).head(10)"
   ]
  },
  {
   "cell_type": "code",
   "execution_count": null,
   "id": "0a4fbf1e-b7fe-44f4-a84d-212331562125",
   "metadata": {},
   "outputs": [],
   "source": [
    "data.sort_values(by='length', ascending=False).tail(10)"
   ]
  },
  {
   "cell_type": "markdown",
   "id": "0c86aef9-2903-478b-bd75-d06944cbb3eb",
   "metadata": {},
   "source": [
    "### Message Length Distribution by Label"
   ]
  },
  {
   "cell_type": "code",
   "execution_count": null,
   "id": "14e338bf-208b-49fa-bbb5-a05d3c5079a4",
   "metadata": {},
   "outputs": [],
   "source": [
    "data.hist(column='length', by='label', figsize=(12, 4), bins=10)\n",
    "\n",
    "plt.suptitle(\"Message Length Distribution by Label\")  \n",
    "plt.subplots_adjust(hspace=0.4)  \n",
    "\n",
    "for ax in plt.gcf().axes:  \n",
    "    x_min, x_max = ax.get_xlim()  \n",
    "    tick_increment = 50  \n",
    "    \n",
    "    if x_max - x_min > 500:  \n",
    "        tick_increment = 100\n",
    "    elif x_max - x_min > 1000:\n",
    "        tick_increment = 200\n",
    "\n",
    "    x_ticks = np.arange(0, x_max + 1, tick_increment)  \n",
    "    ax.set_xticks(x_ticks)  \n",
    "    ax.tick_params(axis='x', rotation=45)  \n",
    "\n",
    "plt.show()"
   ]
  },
  {
   "cell_type": "markdown",
   "id": "3606c668-3957-4348-b75a-401383955fde",
   "metadata": {},
   "source": [
    "## Vectorization of the spam messages"
   ]
  },
  {
   "cell_type": "code",
   "execution_count": null,
   "id": "81ef9e0b-ec6b-48bd-b93f-3cd403525f90",
   "metadata": {},
   "outputs": [],
   "source": [
    "vectorization = CountVectorizer(analyzer=transform_message)\n",
    "\n",
    "X = vectorization.fit_transform(data['message'])\n",
    "\n",
    "# Display the shape of the resulting matrix\n",
    "print(X.shape)"
   ]
  },
  {
   "cell_type": "code",
   "execution_count": null,
   "id": "5754a2a6-3675-49fb-b089-5351cda1fc31",
   "metadata": {},
   "outputs": [],
   "source": [
    "tfidf_transformer = TfidfTransformer()\n",
    "X_tfidf = tfidf_transformer.fit_transform(X)  # Fit and transform on the count matrix 'X'\n",
    "\n",
    "# Print the shape of the TF-IDF matrix\n",
    "print(\"TF-IDF Matrix Shape:\", X_tfidf.shape)"
   ]
  },
  {
   "cell_type": "markdown",
   "id": "5b539693-4718-424c-ac65-f2a9504f0c76",
   "metadata": {},
   "source": [
    "## Using Support Vector Classification (SVC) algorithm to train the NLP"
   ]
  },
  {
   "cell_type": "code",
   "execution_count": null,
   "id": "438bbcb3-2f7a-408a-89ef-4a08426e08a5",
   "metadata": {},
   "outputs": [],
   "source": [
    "# Correct target variable: 'label' column\n",
    "X_train, X_test, y_train, y_test = train_test_split(\n",
    "    X_tfidf,                  # TF-IDF features\n",
    "    data['label'],            # Target: ham or spam\n",
    "    test_size=0.30,           # 30% for testing\n",
    "    random_state=50           # Random seed for reproducibility\n",
    ")\n",
    "\n",
    "# Train the Support Vector Classifier (SVC)\n",
    "clf = SVC(kernel='linear')    # Linear kernel SVM\n",
    "clf.fit(X_train, y_train)\n",
    "\n",
    "# Test the model\n",
    "predictions = clf.predict(X_test)\n",
    "\n",
    "# Display results\n",
    "print(\"Classification Report:\\n\", classification_report(y_test, predictions))\n",
    "print(\"Confusion Matrix:\\n\", confusion_matrix(y_test, predictions))"
   ]
  },
  {
   "cell_type": "code",
   "execution_count": null,
   "id": "96e1b30f-63a5-4400-8be3-db12531ff788",
   "metadata": {},
   "outputs": [],
   "source": []
  }
 ],
 "metadata": {
  "kernelspec": {
   "display_name": "Python 3 (ipykernel)",
   "language": "python",
   "name": "python3"
  },
  "language_info": {
   "codemirror_mode": {
    "name": "ipython",
    "version": 3
   },
   "file_extension": ".py",
   "mimetype": "text/x-python",
   "name": "python",
   "nbconvert_exporter": "python",
   "pygments_lexer": "ipython3",
   "version": "3.13.1"
  }
 },
 "nbformat": 4,
 "nbformat_minor": 5
}
